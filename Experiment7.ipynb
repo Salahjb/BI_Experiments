{
 "cells": [
  {
   "cell_type": "code",
   "execution_count": 2,
   "id": "ca67a603-773c-4954-ac47-46dc1721cc5f",
   "metadata": {},
   "outputs": [],
   "source": [
    "import numpy as np\n",
    "import pandas as pd\n",
    "import matplotlib.pyplot as plt\n",
    "from apyori import apriori\n"
   ]
  },
  {
   "cell_type": "code",
   "execution_count": 4,
   "id": "4a436115-19a1-4ff2-9787-83c3bb95b4d4",
   "metadata": {},
   "outputs": [],
   "source": [
    "data = pd.read_csv('Market_Basket_Optimisation.csv', header=None)"
   ]
  },
  {
   "cell_type": "code",
   "execution_count": 5,
   "id": "b7d8434d-c7b6-439d-a512-1446bc918318",
   "metadata": {},
   "outputs": [],
   "source": [
    "transactions = []\n",
    "\n",
    "# Populate transactions list with 7501 rows and 20 columns\n",
    "for i in range(0, 7501):\n",
    "    transactions.append([str(data.values[i, j]) for j in range(0, 20) if pd.notna(data.values[i, j])])\n"
   ]
  },
  {
   "cell_type": "code",
   "execution_count": 6,
   "id": "7dfa6661-9045-4d8d-8546-b37cb9f63245",
   "metadata": {},
   "outputs": [],
   "source": [
    "rules = apriori(\n",
    "    transactions=transactions,\n",
    "    min_support=0.003,\n",
    "    min_confidence=0.2,\n",
    "    min_lift=3,\n",
    "    min_length=2,\n",
    "    max_length=2\n",
    ")\n",
    "\n",
    "results = list(rules)  # non-tabular output\n"
   ]
  },
  {
   "cell_type": "code",
   "execution_count": 7,
   "id": "4d1ecd07-0768-464f-bb35-bbf37bc1e91c",
   "metadata": {},
   "outputs": [],
   "source": [
    "def inspect(results):\n",
    "    lhs = [tuple(result.ordered_statistics[0].items_base)[0] for result in results]\n",
    "    rhs = [tuple(result.ordered_statistics[0].items_add)[0] for result in results]\n",
    "    support = [result.support for result in results]\n",
    "    confidence = [result.ordered_statistics[0].confidence for result in results]\n",
    "    lift = [result.ordered_statistics[0].lift for result in results]\n",
    "    \n",
    "    return list(zip(lhs, rhs, support, confidence, lift))\n"
   ]
  },
  {
   "cell_type": "code",
   "execution_count": 8,
   "id": "d784cb0e-2bdc-4fea-afc8-af5a4ee332cf",
   "metadata": {},
   "outputs": [
    {
     "name": "stdout",
     "output_type": "stream",
     "text": [
      "         Left_Hand_Side Right_Hand_Side   Support  Confidence      Lift\n",
      "3         fromage blanc           honey  0.003333    0.245098  5.164271\n",
      "0           light cream         chicken  0.004533    0.290598  4.843951\n",
      "2                 pasta        escalope  0.005866    0.372881  4.700812\n",
      "8                 pasta          shrimp  0.005066    0.322034  4.506672\n",
      "7     whole wheat pasta       olive oil  0.007999    0.271493  4.122410\n",
      "5          tomato sauce     ground beef  0.005333    0.377358  3.840659\n",
      "1  mushroom cream sauce        escalope  0.005733    0.300699  3.790833\n",
      "4         herb & pepper     ground beef  0.015998    0.323450  3.291994\n",
      "6           light cream       olive oil  0.003200    0.205128  3.114710\n"
     ]
    }
   ],
   "source": [
    "output_df = pd.DataFrame(inspect(results), columns=['Left_Hand_Side', 'Right_Hand_Side', 'Support', 'Confidence', 'Lift'])\n",
    "\n",
    "# Sort by Lift\n",
    "output_df = output_df.sort_values(by='Lift', ascending=False)\n",
    "\n",
    "# Show the top 10 rules\n",
    "print(output_df.head(10))\n"
   ]
  },
  {
   "cell_type": "code",
   "execution_count": 9,
   "id": "418864de-4110-4bd7-be63-9d6879cb11b1",
   "metadata": {},
   "outputs": [
    {
     "data": {
      "image/png": "[encoded data removed]",
      "text/plain": [
       "<Figure size 1000x600 with 1 Axes>"
      ]
     },
     "metadata": {},
     "output_type": "display_data"
    }
   ],
   "source": [
    "plt.figure(figsize=(10,6))\n",
    "plt.scatter(output_df['Confidence'], output_df['Lift'], alpha=0.7, color='blue')\n",
    "plt.title('Association Rules: Confidence vs Lift')\n",
    "plt.xlabel('Confidence')\n",
    "plt.ylabel('Lift')\n",
    "plt.grid(True)\n",
    "plt.show()\n"
   ]
  },
  {
   "cell_type": "code",
   "execution_count": 11,
   "id": "a8e6ed14-3772-4bde-932a-2645a0aff1e1",
   "metadata": {},
   "outputs": [
    {
     "name": "stdout",
     "output_type": "stream",
     "text": [
      "Chi-Square Statistic = 4.542228269825232\n",
      "Degrees of Freedom = 2\n",
      "Expected Frequencies:\n",
      "[[223.87343533 266.00834492 240.11821975]\n",
      " [217.12656467 257.99165508 232.88178025]]\n",
      "p-value = 0.1031971404730939\n",
      "Result: Independent (H0 holds true)\n"
     ]
    }
   ],
   "source": [
    "# Import the required library\n",
    "from scipy.stats import chi2_contingency\n",
    "\n",
    "# Define the contingency table\n",
    "data = [\n",
    "    [207, 282, 241],\n",
    "    [234, 242, 232]\n",
    "]\n",
    "\n",
    "# Perform chi-square test\n",
    "stat, p, dof, expected = chi2_contingency(data)\n",
    "\n",
    "# Output results\n",
    "print(\"Chi-Square Statistic =\", stat)\n",
    "print(\"Degrees of Freedom =\", dof)\n",
    "print(\"Expected Frequencies:\")\n",
    "print(expected)\n",
    "print(\"p-value =\", p)\n",
    "\n",
    "# Interpret the result\n",
    "alpha = 0.05\n",
    "if p <= alpha:\n",
    "    print(\"Result: Dependent (reject H0)\")\n",
    "else:\n",
    "    print(\"Result: Independent (H0 holds true)\")\n"
   ]
  },
  {
   "cell_type": "code",
   "execution_count": null,
   "id": "b45412b7-2fe4-4e26-aa73-c78b58912b19",
   "metadata": {},
   "outputs": [],
   "source": []
  }
 ],
 "metadata": {
  "kernelspec": {
   "display_name": "Python 3 (ipykernel)",
   "language": "python",
   "name": "python3"
  },
  "language_info": {
   "codemirror_mode": {
    "name": "ipython",
    "version": 3
   },
   "file_extension": ".py",
   "mimetype": "text/x-python",
   "name": "python",
   "nbconvert_exporter": "python",
   "pygments_lexer": "ipython3",
   "version": "3.12.9"
  }
 },
 "nbformat": 4,
 "nbformat_minor": 5
}
