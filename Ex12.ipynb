{
 "cells": [
  {
   "cell_type": "code",
   "execution_count": 1,
   "id": "719c992e-5667-4af1-975f-cdfbb4e15fe5",
   "metadata": {},
   "outputs": [
    {
     "name": "stdout",
     "output_type": "stream",
     "text": [
      "A: [2 1 2 3 2 9]\n",
      "B: [3 4 2 4 5 5]\n",
      "Cosine Similarity: 0.8188504723485274\n"
     ]
    }
   ],
   "source": [
    "import numpy as np\n",
    "from numpy.linalg import norm\n",
    "\n",
    "# Define two vectors A and B\n",
    "A = np.array([2, 1, 2, 3, 2, 9])\n",
    "B = np.array([3, 4, 2, 4, 5, 5])\n",
    "\n",
    "# Compute Cosine Similarity\n",
    "cosine_similarity = np.dot(A, B) / (norm(A) * norm(B))\n",
    "\n",
    "print(\"A:\", A)\n",
    "print(\"B:\", B)\n",
    "print(\"Cosine Similarity:\", cosine_similarity)\n"
   ]
  },
  {
   "cell_type": "code",
   "execution_count": 2,
   "id": "4b30ad3f-0c51-4433-a5c8-ac1fea72f9e6",
   "metadata": {},
   "outputs": [
    {
     "name": "stdout",
     "output_type": "stream",
     "text": [
      "Jaccard Similarity: 0.25\n"
     ]
    }
   ],
   "source": [
    "# Define two sets A and B\n",
    "A = {1, 2, 3, 5, 7}\n",
    "B = {1, 2, 4, 8, 9}\n",
    "\n",
    "# Function to compute Jaccard Similarity\n",
    "def jaccard_similarity(A, B):\n",
    "    intersection = A.intersection(B)\n",
    "    union = A.union(B)\n",
    "    similarity = len(intersection) / len(union)\n",
    "    return similarity\n",
    "\n",
    "# Compute and display Jaccard Similarity\n",
    "similarity = jaccard_similarity(A, B)\n",
    "print(\"Jaccard Similarity:\", similarity)\n"
   ]
  },
  {
   "cell_type": "code",
   "execution_count": 3,
   "id": "0d878150-7bba-4b40-ac39-ff167ee0dd66",
   "metadata": {},
   "outputs": [
    {
     "name": "stdout",
     "output_type": "stream",
     "text": [
      "Jaccard Distance: 0.75\n"
     ]
    }
   ],
   "source": [
    "# Function to compute Jaccard Distance\n",
    "def jaccard_distance(A, B):\n",
    "    intersection = A.intersection(B)\n",
    "    union = A.union(B)\n",
    "    distance = 1 - (len(intersection) / len(union))\n",
    "    return distance\n",
    "\n",
    "# Compute and display Jaccard Distance\n",
    "distance = jaccard_distance(A, B)\n",
    "print(\"Jaccard Distance:\", distance)\n"
   ]
  },
  {
   "cell_type": "code",
   "execution_count": 4,
   "id": "3da986f3-e084-492d-93e5-de145124108e",
   "metadata": {},
   "outputs": [
    {
     "name": "stdout",
     "output_type": "stream",
     "text": [
      "M11: 2, M01: 1, M10: 2, M00: 1\n",
      "Jaccard Similarity: 0.4\n",
      "Jaccard Distance: 0.6\n"
     ]
    }
   ],
   "source": [
    "# Binary attributes for customers A and B\n",
    "A = [1, 0, 0, 1, 1, 1]  # Customer A's purchase history\n",
    "B = [0, 0, 1, 1, 1, 0]  # Customer B's purchase history\n",
    "\n",
    "# Count M11, M01, M10, M00\n",
    "M11 = sum([1 for a, b in zip(A, B) if a == 1 and b == 1])  # Both bought the item\n",
    "M01 = sum([1 for a, b in zip(A, B) if a == 0 and b == 1])  # A didn't buy, B bought\n",
    "M10 = sum([1 for a, b in zip(A, B) if a == 1 and b == 0])  # A bought, B didn't\n",
    "M00 = sum([1 for a, b in zip(A, B) if a == 0 and b == 0])  # Neither bought the item\n",
    "\n",
    "# Calculate Jaccard Similarity and Distance for binary attributes\n",
    "J = M11 / (M01 + M10 + M11)  # Jaccard Similarity\n",
    "dJ = 1 - J  # Jaccard Distance\n",
    "\n",
    "print(f\"M11: {M11}, M01: {M01}, M10: {M10}, M00: {M00}\")\n",
    "print(f\"Jaccard Similarity: {J}\")\n",
    "print(f\"Jaccard Distance: {dJ}\")\n"
   ]
  },
  {
   "cell_type": "code",
   "execution_count": 5,
   "id": "8a8e3664-635e-4e5b-80c8-6730901a3ffd",
   "metadata": {},
   "outputs": [
    {
     "name": "stdout",
     "output_type": "stream",
     "text": [
      "Dissimilarity Matrix:\n",
      "[[0.         0.75       0.57142857]\n",
      " [0.75       0.         0.88888889]\n",
      " [0.57142857 0.88888889 0.        ]]\n"
     ]
    }
   ],
   "source": [
    "# Define a list of sets or vectors (for example, A, B, C)\n",
    "sets = [\n",
    "    {1, 2, 3, 5, 7},  # A\n",
    "    {1, 2, 4, 8, 9},  # B\n",
    "    {3, 4, 5, 6, 7}   # C\n",
    "]\n",
    "\n",
    "# Create a dissimilarity matrix\n",
    "dissimilarity_matrix = np.zeros((len(sets), len(sets)))\n",
    "\n",
    "# Compute pairwise Jaccard distance (or similarity)\n",
    "for i in range(len(sets)):\n",
    "    for j in range(len(sets)):\n",
    "        if i != j:\n",
    "            dissimilarity_matrix[i][j] = jaccard_distance(sets[i], sets[j])\n",
    "        else:\n",
    "            dissimilarity_matrix[i][j] = 0  # No dissimilarity to itself\n",
    "\n",
    "print(\"Dissimilarity Matrix:\")\n",
    "print(dissimilarity_matrix)\n"
   ]
  },
  {
   "cell_type": "code",
   "execution_count": null,
   "id": "d638f66d-1fd1-4509-b407-067df004bd2b",
   "metadata": {},
   "outputs": [],
   "source": []
  }
 ],
 "metadata": {
  "kernelspec": {
   "display_name": "Python 3 (ipykernel)",
   "language": "python",
   "name": "python3"
  },
  "language_info": {
   "codemirror_mode": {
    "name": "ipython",
    "version": 3
   },
   "file_extension": ".py",
   "mimetype": "text/x-python",
   "name": "python",
   "nbconvert_exporter": "python",
   "pygments_lexer": "ipython3",
   "version": "3.12.9"
  }
 },
 "nbformat": 4,
 "nbformat_minor": 5
}
