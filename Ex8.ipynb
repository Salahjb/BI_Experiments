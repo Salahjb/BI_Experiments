{
 "cells": [
  {
   "cell_type": "code",
   "execution_count": 1,
   "id": "207be442-4a2d-4620-813f-51d3015a3b7d",
   "metadata": {},
   "outputs": [
    {
     "name": "stdout",
     "output_type": "stream",
     "text": [
      "Chi-Square Statistic = 4.542228269825232\n",
      "Degrees of Freedom = 2\n",
      "Expected Frequencies:\n",
      "[[223.87343533 266.00834492 240.11821975]\n",
      " [217.12656467 257.99165508 232.88178025]]\n",
      "p-value = 0.1031971404730939\n",
      "Result: Independent (H0 holds true)\n"
     ]
    }
   ],
   "source": [
    "# Import the required library\n",
    "from scipy.stats import chi2_contingency\n",
    "\n",
    "# Define the contingency table\n",
    "data = [\n",
    "    [207, 282, 241],\n",
    "    [234, 242, 232]\n",
    "]\n",
    "\n",
    "# Perform chi-square test\n",
    "stat, p, dof, expected = chi2_contingency(data)\n",
    "\n",
    "# Output results\n",
    "print(\"Chi-Square Statistic =\", stat)\n",
    "print(\"Degrees of Freedom =\", dof)\n",
    "print(\"Expected Frequencies:\")\n",
    "print(expected)\n",
    "print(\"p-value =\", p)\n",
    "\n",
    "# Interpret the result\n",
    "alpha = 0.05\n",
    "if p <= alpha:\n",
    "    print(\"Result: Dependent (reject H0)\")\n",
    "else:\n",
    "    print(\"Result: Independent (H0 holds true)\")"
   ]
  },
  {
   "cell_type": "code",
   "execution_count": null,
   "id": "656fdeeb-6a10-4dc4-8d28-66ac3ef39c82",
   "metadata": {},
   "outputs": [],
   "source": []
  }
 ],
 "metadata": {
  "kernelspec": {
   "display_name": "Python 3 (ipykernel)",
   "language": "python",
   "name": "python3"
  },
  "language_info": {
   "codemirror_mode": {
    "name": "ipython",
    "version": 3
   },
   "file_extension": ".py",
   "mimetype": "text/x-python",
   "name": "python",
   "nbconvert_exporter": "python",
   "pygments_lexer": "ipython3",
   "version": "3.12.9"
  }
 },
 "nbformat": 4,
 "nbformat_minor": 5
}
